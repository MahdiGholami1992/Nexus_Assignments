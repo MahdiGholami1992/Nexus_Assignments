{
  "nbformat": 4,
  "nbformat_minor": 0,
  "metadata": {
    "colab": {
      "provenance": []
    },
    "kernelspec": {
      "name": "python3",
      "display_name": "Python 3"
    },
    "language_info": {
      "name": "python"
    }
  },
  "cells": [
    {
      "cell_type": "markdown",
      "source": [
        "# 📓 Assignment 4 — Linear Algebra Fundamentals\n",
        "\n",
        "*Vectors & Matrices for Everyday Coding*\n",
        "\n"
      ],
      "metadata": {
        "id": "A1k4HkdO05Yu"
      }
    },
    {
      "cell_type": "markdown",
      "source": [
        "## Welcome back, intrepid coder! 🚀\n",
        "In this notebook-styled brief you’ll move from single-direction vectors to multi-direction matrices—core tools behind graphics, robotics, optimisation and (of course) machine-learning. Each mini-section mixes quick notes, a tiny real-world scenario, and hands-on # TODO code shaped for beginners.\n"
      ],
      "metadata": {
        "id": "mBNupqPj1B1_"
      }
    },
    {
      "cell_type": "markdown",
      "source": [
        "## 🧭 Vectors 101\n",
        "\n",
        "| Concept             | Quick reminder                                  |\n",
        "|---------------------|--------------------------------------------------|\n",
        "| Representation      | 1-D NumPy array — `np.array([x, y, z])`         |\n",
        "| Length (norm)       | `np.linalg.norm(v)`                             |\n",
        "| Dot / inner product | `v.dot(w)` or `np.inner(v, w)`                  |\n",
        "| Unit vector         | `v / np.linalg.norm(v)`                         |\n"
      ],
      "metadata": {
        "id": "zD-AyQCe1Y9e"
      }
    },
    {
      "cell_type": "code",
      "execution_count": 40,
      "metadata": {
        "id": "AWVTIlQP0ysC",
        "colab": {
          "base_uri": "https://localhost:8080/"
        },
        "outputId": "87f57520-9017-4b61-c768-46744c1bb18d"
      },
      "outputs": [
        {
          "output_type": "stream",
          "name": "stdout",
          "text": [
            "v: [[[ 1  2  3  4]\n",
            "  [ 5  6  7  8]\n",
            "  [ 9 10 11 12]]\n",
            "\n",
            " [[13 14 15 16]\n",
            "  [17 18 19 20]\n",
            "  [21 22 23 24]]]\n",
            "----------------\n",
            "w: [[[25 26 27 28]\n",
            "  [29 30 31 32]\n",
            "  [33 34 35 36]]\n",
            "\n",
            " [[37 38 39 40]\n",
            "  [41 42 43 44]\n",
            "  [45 46 47 48]]]\n",
            "----------------\n",
            "v_lenght: 70.0 w_lenght: 182.0\n",
            "----------------\n",
            "v/v_lenght: [[[0.01428571 0.02857143 0.04285714 0.05714286]\n",
            "  [0.07142857 0.08571429 0.1        0.11428571]\n",
            "  [0.12857143 0.14285714 0.15714286 0.17142857]]\n",
            "\n",
            " [[0.18571429 0.2        0.21428571 0.22857143]\n",
            "  [0.24285714 0.25714286 0.27142857 0.28571429]\n",
            "  [0.3        0.31428571 0.32857143 0.34285714]]]\n",
            "----------------\n",
            "w/w_lenght: [[[0.13736264 0.14285714 0.14835165 0.15384615]\n",
            "  [0.15934066 0.16483516 0.17032967 0.17582418]\n",
            "  [0.18131868 0.18681319 0.19230769 0.1978022 ]]\n",
            "\n",
            " [[0.2032967  0.20879121 0.21428571 0.21978022]\n",
            "  [0.22527473 0.23076923 0.23626374 0.24175824]\n",
            "  [0.24725275 0.25274725 0.25824176 0.26373626]]]\n",
            "----------------\n",
            "[1 2 3 4]\n",
            "----------------\n",
            "[25 26 27 28]\n",
            "----------------\n",
            "270\n"
          ]
        }
      ],
      "source": [
        "# Run once per session\n",
        "import numpy as np\n",
        "\n",
        "# TODO 1: create a 3-D vector named v\n",
        "# TODO 2: print its length\n",
        "# TODO 3: build a second vector w and output the dot product\n",
        "v = np.array([[[1, 2, 3, 4], [5, 6, 7, 8], [9, 10, 11, 12]],\n",
        "              [[13, 14, 15, 16], [17, 18, 19, 20], [21, 22, 23, 24]]])\n",
        "\n",
        "w = np.array([[[25, 26, 27, 28], [29, 30, 31, 32], [33, 34, 35, 36]],\n",
        "              [[37, 38, 39, 40], [41, 42, 43, 44], [45, 46, 47, 48]]])\n",
        "print(\"v:\",v)\n",
        "print(\"----------------\")\n",
        "print(\"w:\",w)\n",
        "print(\"----------------\")\n",
        "v_lenght=np.linalg.norm(v)\n",
        "w_lenght=np.linalg.norm(w)\n",
        "print(\"v_lenght:\",v_lenght,\"w_lenght:\",w_lenght)\n",
        "print(\"----------------\")\n",
        "v.shape\n",
        "w.shape\n",
        "print(\"v/v_lenght:\",v/v_lenght)\n",
        "print(\"----------------\")\n",
        "print(\"w/w_lenght:\",w/w_lenght)\n",
        "\n",
        "print(\"----------------\")\n",
        "\n",
        "print(v[0][0])\n",
        "\n",
        "print(\"----------------\")\n",
        "print(w[0][0])\n",
        "print(\"----------------\")\n",
        "print(v[0][0].dot(w[0][0]))"
      ]
    },
    {
      "cell_type": "markdown",
      "source": [
        "### 🚁 Practical Scenario — “Drone hop”\n",
        "A mini-drone lifts off at (2 m, 1 m) and lands at (7 m, 4 m).\n",
        "Calculate its displacement vector, travel distance, and orientation along the x-axis."
      ],
      "metadata": {
        "id": "c_iB5_0A1rg7"
      }
    },
    {
      "cell_type": "code",
      "source": [
        "p_start = np.array([2, 1])\n",
        "p_end   = np.array([7, 4])\n",
        "\n",
        "# displacement\n",
        "d = p_end - p_start          # ➡️ vector from start to end\n",
        "dist = np.linalg.norm(d)     # 🏁 distance travelled\n",
        "unit = d / dist              # ↗️ unit direction\n",
        "dot_x = d.dot(np.array([1, 0]))  # projection on x-axis\n",
        "\n",
        "print(\"Displacement:\", d)\n",
        "print(\"Distance:\", dist)\n",
        "print(\"Unit direction:\", unit)\n",
        "print(\"Dot-product with x-axis:\", dot_x)\n"
      ],
      "metadata": {
        "id": "Rq-tHCkF1x3p",
        "colab": {
          "base_uri": "https://localhost:8080/"
        },
        "outputId": "d96f4c46-6f54-48aa-cd9e-d9a39043d135"
      },
      "execution_count": 41,
      "outputs": [
        {
          "output_type": "stream",
          "name": "stdout",
          "text": [
            "Displacement: [5 3]\n",
            "Distance: 5.830951894845301\n",
            "Unit direction: [0.85749293 0.51449576]\n",
            "Dot-product with x-axis: 5\n"
          ]
        }
      ]
    },
    {
      "cell_type": "markdown",
      "source": [
        "## 🔢 Matrices 101\n",
        "\n",
        "| Operation              | NumPy one-liner                                  |\n",
        "|------------------------|--------------------------------------------------|\n",
        "| Transpose              | `A.T`                                            |\n",
        "| Determinant            | `np.linalg.det(A)`                               |\n",
        "| Inverse                | `np.linalg.inv(A)` (works only if `det(A) ≠ 0`)  |\n",
        "| Matrix-vector multiply | `A @ v`                                          |\n",
        "| Matrix-matrix multiply | `A @ B`                                          |\n"
      ],
      "metadata": {
        "id": "vqX_pXGq16Af"
      }
    },
    {
      "cell_type": "code",
      "source": [
        "# TODO 4: build a 2×2 matrix A\n",
        "# TODO 5: print its determinant\n",
        "# TODO 6: if invertible, compute and print A_inv\n",
        "import numpy as np\n",
        "A=np.array([[1,2],[3,4]])\n",
        "A\n",
        "A.shape\n",
        "det_A=np.linalg.det(A)\n",
        "print(\"det_A:\",det_A)\n",
        "if det_A != 0:\n",
        "    A_inv = np.linalg.inv(A)\n",
        "    print(\"Inverse of A:\\n\", A_inv)\n",
        "else:\n",
        "    print(\"Matrix A is not invertible.\")"
      ],
      "metadata": {
        "id": "yycidpaj2BAv",
        "colab": {
          "base_uri": "https://localhost:8080/"
        },
        "outputId": "6bc4286f-1872-4d78-8805-e398df6e3a02"
      },
      "execution_count": 9,
      "outputs": [
        {
          "output_type": "stream",
          "name": "stdout",
          "text": [
            "det_A: -2.0000000000000004\n",
            "Inverse of A:\n",
            " [[-2.   1. ]\n",
            " [ 1.5 -0.5]]\n"
          ]
        }
      ]
    },
    {
      "cell_type": "markdown",
      "source": [
        "### 🎯 Practical Scenario — “Rotate that hop”\n",
        "Rotate the drone’s displacement vector 30° counter-clockwise, then verify that the inverse rotation brings it back."
      ],
      "metadata": {
        "id": "C-ikgDhF2DFn"
      }
    },
    {
      "cell_type": "code",
      "source": [
        "d=np.array([1,3])\n",
        "theta = np.deg2rad(90)          # 🔄 convert degrees to radians\n",
        "R = np.array([[np.cos(theta), -np.sin(theta)],\n",
        "              [np.sin(theta),  np.cos(theta)]])\n",
        "\n",
        "det_R = np.linalg.det(R)        # should be 1.0 (pure rotation)\n",
        "\n",
        "d_rot  = R @ d                  # rotated displacement\n",
        "d_back = np.linalg.inv(R) @ d_rot\n",
        "\n",
        "print(\"Rotation matrix determinant:\", det_R)\n",
        "print(\"Rotated vector:\", d_rot)\n",
        "print(\"Back-rotated equals original?\", np.allclose(d_back, d))\n"
      ],
      "metadata": {
        "id": "SgmIesbf2G65",
        "colab": {
          "base_uri": "https://localhost:8080/"
        },
        "outputId": "5baa182c-df41-4304-9270-14d1e724bcda"
      },
      "execution_count": 13,
      "outputs": [
        {
          "output_type": "stream",
          "name": "stdout",
          "text": [
            "Rotation matrix determinant: 1.0\n",
            "Rotated vector: [-3.  1.]\n",
            "Back-rotated equals original? True\n"
          ]
        }
      ]
    }
  ]
}